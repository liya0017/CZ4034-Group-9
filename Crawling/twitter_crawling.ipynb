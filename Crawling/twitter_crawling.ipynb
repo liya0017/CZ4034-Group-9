{
  "cells": [
    {
      "cell_type": "code",
      "execution_count": null,
      "metadata": {
        "id": "4zbwkppSTOzp"
      },
      "outputs": [],
      "source": [
        "import pandas as pd\n",
        "from datetime import datetime, timedelta\n",
        "from tqdm import tqdm"
      ]
    },
    {
      "cell_type": "code",
      "execution_count": null,
      "metadata": {
        "id": "d-o2PX3CChN9"
      },
      "outputs": [],
      "source": [
        "keyword = ['Moderna vaccine', 'Moderna Vaccination']\n",
        "tokens = []"
      ]
    },
    {
      "cell_type": "code",
      "execution_count": null,
      "metadata": {
        "colab": {
          "background_save": true,
          "base_uri": "https://localhost:8080/"
        },
        "id": "YYV_KsCAbAWE",
        "outputId": "75c7e893-8f63-4b9a-eb2e-0eef4ea4cdbb"
      },
      "outputs": [],
      "source": [
        "df = pd.DataFrame()\n",
        "for i in range(len(keyword)):\n",
        "  df = pd.DataFrame()\n",
        "  start_date = datetime(2021, 1, 1)\n",
        "  end_date = datetime(2021, 12, 31)\n",
        "  keyword = keyword[i]\n",
        "  token = \"\"\n",
        "\n",
        "  # for j in range((end_date - start_date).days + 1):\n",
        "  for j in tqdm(range((end_date - start_date).days + 1), desc=f\"Processing {keyword}\"):\n",
        "    date = start_date.strftime('%Y-%m-%d')\n",
        "    data_filename = f\"{keyword}_{date}.csv\"\n",
        "    search_keyword = f\"{keyword} until:{date} since:{(start_date-timedelta(days=1)).strftime('%Y-%m-%d')} lang:en\"\n",
        "    num_tweets_per_tag = 30\n",
        "    try:\n",
        "      !npx --y tweet-harvest@2.2.8 -o \"{data_filename}\" -s \"{search_keyword}\" -l {num_tweets_per_tag} --token \"{token}\"\n",
        "      data = pd.read_csv(f\"Info Retrieval Proj/tweets-data/{data_filename}\", sep=\";\")\n",
        "      df = pd.concat([df, data], ignore_index=True)\n",
        "    except:\n",
        "      pass\n",
        "    start_date += timedelta(days=1)\n",
        "\n",
        "  df.to_csv(f'{keyword}.csv', index=False)"
      ]
    },
    {
      "cell_type": "code",
      "execution_count": null,
      "metadata": {},
      "outputs": [],
      "source": []
    }
  ],
  "metadata": {
    "colab": {
      "provenance": []
    },
    "kernelspec": {
      "display_name": "Python 3",
      "name": "python3"
    },
    "language_info": {
      "codemirror_mode": {
        "name": "ipython",
        "version": 3
      },
      "file_extension": ".py",
      "mimetype": "text/x-python",
      "name": "python",
      "nbconvert_exporter": "python",
      "pygments_lexer": "ipython3",
      "version": "3.8.5"
    }
  },
  "nbformat": 4,
  "nbformat_minor": 0
}
