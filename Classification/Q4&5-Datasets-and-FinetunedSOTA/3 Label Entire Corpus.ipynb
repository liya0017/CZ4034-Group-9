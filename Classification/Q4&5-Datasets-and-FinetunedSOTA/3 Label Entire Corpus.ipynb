{
 "cells": [
  {
   "cell_type": "markdown",
   "id": "f64ffd04",
   "metadata": {},
   "source": [
    "This notebook contains the code to autolabel the rest of the tweet corpus (from 8000 onwards) using our finetuned huggingface transformer model."
   ]
  },
  {
   "cell_type": "code",
   "execution_count": 1,
   "id": "f254e88d",
   "metadata": {},
   "outputs": [
    {
     "name": "stdout",
     "output_type": "stream",
     "text": [
      "df shape: (50739, 14)\n",
      "df shape: (42739, 13)\n"
     ]
    },
    {
     "data": {
      "text/html": [
       "<div>\n",
       "<style scoped>\n",
       "    .dataframe tbody tr th:only-of-type {\n",
       "        vertical-align: middle;\n",
       "    }\n",
       "\n",
       "    .dataframe tbody tr th {\n",
       "        vertical-align: top;\n",
       "    }\n",
       "\n",
       "    .dataframe thead th {\n",
       "        text-align: right;\n",
       "    }\n",
       "</style>\n",
       "<table border=\"1\" class=\"dataframe\">\n",
       "  <thead>\n",
       "    <tr style=\"text-align: right;\">\n",
       "      <th></th>\n",
       "      <th>created_at</th>\n",
       "      <th>id_str</th>\n",
       "      <th>full_text</th>\n",
       "      <th>quote_count</th>\n",
       "      <th>reply_count</th>\n",
       "      <th>retweet_count</th>\n",
       "      <th>favorite_count</th>\n",
       "      <th>lang</th>\n",
       "      <th>user_id_str</th>\n",
       "      <th>conversation_id_str</th>\n",
       "      <th>username</th>\n",
       "      <th>tweet_url</th>\n",
       "      <th>Sentiment Analysis (Label)</th>\n",
       "    </tr>\n",
       "  </thead>\n",
       "  <tbody>\n",
       "    <tr>\n",
       "      <th>8000</th>\n",
       "      <td>Sun Nov 28 23:59:03 +0000 2021</td>\n",
       "      <td>1.465108e+18</td>\n",
       "      <td>When is the Biden’s admin suppose to start his...</td>\n",
       "      <td>1.0</td>\n",
       "      <td>1.0</td>\n",
       "      <td>0</td>\n",
       "      <td>2.0</td>\n",
       "      <td>en</td>\n",
       "      <td>1293697365556301837</td>\n",
       "      <td>1465108006912368642</td>\n",
       "      <td>k_matthew26</td>\n",
       "      <td>https://twitter.com/k_matthew26/status/1465108...</td>\n",
       "      <td>NaN</td>\n",
       "    </tr>\n",
       "    <tr>\n",
       "      <th>8001</th>\n",
       "      <td>Sun Nov 28 23:59:02 +0000 2021</td>\n",
       "      <td>1.465108e+18</td>\n",
       "      <td>Weird how the hospitals of full of people sick...</td>\n",
       "      <td>0.0</td>\n",
       "      <td>1.0</td>\n",
       "      <td>10</td>\n",
       "      <td>13.0</td>\n",
       "      <td>en</td>\n",
       "      <td>17857130</td>\n",
       "      <td>1465108000050491396</td>\n",
       "      <td>debbterhune</td>\n",
       "      <td>https://twitter.com/debbterhune/status/1465108...</td>\n",
       "      <td>NaN</td>\n",
       "    </tr>\n",
       "    <tr>\n",
       "      <th>8002</th>\n",
       "      <td>Sun Nov 28 23:58:39 +0000 2021</td>\n",
       "      <td>1.465108e+18</td>\n",
       "      <td>@BurDarius Bullsht. I have not read anywhere t...</td>\n",
       "      <td>0.0</td>\n",
       "      <td>1.0</td>\n",
       "      <td>0</td>\n",
       "      <td>0.0</td>\n",
       "      <td>en</td>\n",
       "      <td>1222945528704589824</td>\n",
       "      <td>1465102195469205506</td>\n",
       "      <td>felidaeny</td>\n",
       "      <td>https://twitter.com/felidaeny/status/146510790...</td>\n",
       "      <td>NaN</td>\n",
       "    </tr>\n",
       "    <tr>\n",
       "      <th>8003</th>\n",
       "      <td>Sun Nov 28 23:58:26 +0000 2021</td>\n",
       "      <td>1.465108e+18</td>\n",
       "      <td>@kylenabecker Why and how:  Dr. Sucharit Bhakd...</td>\n",
       "      <td>0.0</td>\n",
       "      <td>0.0</td>\n",
       "      <td>0</td>\n",
       "      <td>8.0</td>\n",
       "      <td>en</td>\n",
       "      <td>1360639012684374021</td>\n",
       "      <td>1464046666969931777</td>\n",
       "      <td>AldenteRoger</td>\n",
       "      <td>https://twitter.com/AldenteRoger/status/146510...</td>\n",
       "      <td>NaN</td>\n",
       "    </tr>\n",
       "    <tr>\n",
       "      <th>8004</th>\n",
       "      <td>Sun Nov 28 23:58:21 +0000 2021</td>\n",
       "      <td>1.465108e+18</td>\n",
       "      <td>@henchnips @doritmi @TheFrankmanMN @MaryOskii ...</td>\n",
       "      <td>0.0</td>\n",
       "      <td>2.0</td>\n",
       "      <td>0</td>\n",
       "      <td>2.0</td>\n",
       "      <td>en</td>\n",
       "      <td>3042593172</td>\n",
       "      <td>1464762015931584512</td>\n",
       "      <td>handmadekathy</td>\n",
       "      <td>https://twitter.com/handmadekathy/status/14651...</td>\n",
       "      <td>NaN</td>\n",
       "    </tr>\n",
       "  </tbody>\n",
       "</table>\n",
       "</div>"
      ],
      "text/plain": [
       "                          created_at        id_str  \\\n",
       "8000  Sun Nov 28 23:59:03 +0000 2021  1.465108e+18   \n",
       "8001  Sun Nov 28 23:59:02 +0000 2021  1.465108e+18   \n",
       "8002  Sun Nov 28 23:58:39 +0000 2021  1.465108e+18   \n",
       "8003  Sun Nov 28 23:58:26 +0000 2021  1.465108e+18   \n",
       "8004  Sun Nov 28 23:58:21 +0000 2021  1.465108e+18   \n",
       "\n",
       "                                              full_text  quote_count  \\\n",
       "8000  When is the Biden’s admin suppose to start his...          1.0   \n",
       "8001  Weird how the hospitals of full of people sick...          0.0   \n",
       "8002  @BurDarius Bullsht. I have not read anywhere t...          0.0   \n",
       "8003  @kylenabecker Why and how:  Dr. Sucharit Bhakd...          0.0   \n",
       "8004  @henchnips @doritmi @TheFrankmanMN @MaryOskii ...          0.0   \n",
       "\n",
       "      reply_count retweet_count  favorite_count lang          user_id_str  \\\n",
       "8000          1.0             0             2.0   en  1293697365556301837   \n",
       "8001          1.0            10            13.0   en             17857130   \n",
       "8002          1.0             0             0.0   en  1222945528704589824   \n",
       "8003          0.0             0             8.0   en  1360639012684374021   \n",
       "8004          2.0             0             2.0   en           3042593172   \n",
       "\n",
       "      conversation_id_str       username  \\\n",
       "8000  1465108006912368642    k_matthew26   \n",
       "8001  1465108000050491396    debbterhune   \n",
       "8002  1465102195469205506      felidaeny   \n",
       "8003  1464046666969931777   AldenteRoger   \n",
       "8004  1464762015931584512  handmadekathy   \n",
       "\n",
       "                                              tweet_url  \\\n",
       "8000  https://twitter.com/k_matthew26/status/1465108...   \n",
       "8001  https://twitter.com/debbterhune/status/1465108...   \n",
       "8002  https://twitter.com/felidaeny/status/146510790...   \n",
       "8003  https://twitter.com/AldenteRoger/status/146510...   \n",
       "8004  https://twitter.com/handmadekathy/status/14651...   \n",
       "\n",
       "     Sentiment Analysis (Label)  \n",
       "8000                        NaN  \n",
       "8001                        NaN  \n",
       "8002                        NaN  \n",
       "8003                        NaN  \n",
       "8004                        NaN  "
      ]
     },
     "execution_count": 1,
     "metadata": {},
     "output_type": "execute_result"
    }
   ],
   "source": [
    "import time\n",
    "import pandas as pd\n",
    "import warnings\n",
    "warnings.filterwarnings(\"ignore\")\n",
    "\n",
    "df = pd.read_csv(\"tweet_corpus.csv\")\n",
    "print(\"df shape:\",df.shape)\n",
    "df = df.iloc[8000:]\n",
    "df.drop(['label2'], axis=1, inplace = True)\n",
    "print(\"df shape:\",df.shape)\n",
    "df.head()"
   ]
  },
  {
   "cell_type": "code",
   "execution_count": 2,
   "id": "8b46e6dd",
   "metadata": {},
   "outputs": [
    {
     "name": "stdout",
     "output_type": "stream",
     "text": [
      "WARNING:tensorflow:From C:\\Users\\guoch\\anaconda3\\Lib\\site-packages\\keras\\src\\losses.py:2976: The name tf.losses.sparse_softmax_cross_entropy is deprecated. Please use tf.compat.v1.losses.sparse_softmax_cross_entropy instead.\n",
      "\n",
      "WARNING:tensorflow:From C:\\Users\\guoch\\anaconda3\\Lib\\site-packages\\tensorflow_probability\\python\\internal\\backend\\numpy\\_utils.py:48: The name tf.logging.TaskLevelStatusMessage is deprecated. Please use tf.compat.v1.logging.TaskLevelStatusMessage instead.\n",
      "\n",
      "WARNING:tensorflow:From C:\\Users\\guoch\\anaconda3\\Lib\\site-packages\\tensorflow_probability\\python\\internal\\backend\\numpy\\_utils.py:48: The name tf.control_flow_v2_enabled is deprecated. Please use tf.compat.v1.control_flow_v2_enabled instead.\n",
      "\n"
     ]
    }
   ],
   "source": [
    "from transformers import pipeline, AutoTokenizer, AutoModelForSequenceClassification\n",
    "tokenizer = AutoTokenizer.from_pretrained(\"finiteautomata/bertweet-base-sentiment-analysis\")\n",
    "model = AutoModelForSequenceClassification.from_pretrained(\"./models/\")\n",
    "classifier = pipeline('text-classification',model=model,tokenizer=tokenizer)"
   ]
  },
  {
   "cell_type": "code",
   "execution_count": 4,
   "id": "31770f56",
   "metadata": {},
   "outputs": [
    {
     "data": {
      "text/plain": [
       "[{'label': 'NEG', 'score': 0.9970840811729431}]"
      ]
     },
     "execution_count": 4,
     "metadata": {},
     "output_type": "execute_result"
    }
   ],
   "source": [
    "classifier(df['full_text'][8000])"
   ]
  },
  {
   "cell_type": "code",
   "execution_count": 5,
   "id": "2a251c7b",
   "metadata": {
    "scrolled": true
   },
   "outputs": [
    {
     "name": "stdout",
     "output_type": "stream",
     "text": [
      "reached 8000\n"
     ]
    },
    {
     "name": "stderr",
     "output_type": "stream",
     "text": [
      "Token indices sequence length is longer than the specified maximum sequence length for this model (208 > 128). Running this sequence through the model will result in indexing errors\n"
     ]
    },
    {
     "name": "stdout",
     "output_type": "stream",
     "text": [
      "reached 8500\n",
      "reached 9000\n",
      "reached 9500\n",
      "reached 10000\n",
      "reached 10500\n",
      "reached 11000\n",
      "reached 11500\n",
      "reached 12000\n",
      "reached 12500\n",
      "reached 13000\n",
      "reached 13500\n",
      "reached 14000\n",
      "reached 14500\n",
      "reached 15000\n",
      "reached 15500\n",
      "reached 16000\n",
      "reached 16500\n",
      "reached 17000\n",
      "reached 17500\n",
      "reached 18000\n",
      "reached 18500\n",
      "reached 19000\n",
      "reached 19500\n",
      "reached 20000\n",
      "reached 20500\n",
      "reached 21000\n",
      "reached 21500\n",
      "reached 22000\n",
      "reached 22500\n",
      "reached 23000\n",
      "reached 23500\n",
      "reached 24000\n",
      "reached 24500\n",
      "reached 25000\n",
      "reached 25500\n",
      "reached 26000\n",
      "reached 26500\n",
      "reached 27000\n",
      "reached 27500\n",
      "reached 28000\n",
      "reached 28500\n",
      "reached 29000\n",
      "reached 29500\n",
      "reached 30000\n",
      "reached 30500\n",
      "reached 31000\n",
      "reached 31500\n",
      "reached 32000\n",
      "reached 32500\n",
      "reached 33000\n",
      "reached 33500\n",
      "reached 34000\n",
      "reached 34500\n",
      "reached 35000\n",
      "reached 35500\n",
      "reached 36000\n",
      "reached 36500\n",
      "reached 37000\n",
      "reached 37500\n",
      "reached 38000\n",
      "reached 38500\n",
      "reached 39000\n",
      "reached 39500\n",
      "reached 40000\n",
      "reached 40500\n",
      "reached 41000\n",
      "reached 41500\n",
      "reached 42000\n",
      "reached 42500\n",
      "reached 43000\n",
      "reached 43500\n",
      "reached 44000\n",
      "reached 44500\n",
      "reached 45000\n",
      "reached 45500\n",
      "reached 46000\n",
      "reached 46500\n",
      "reached 47000\n",
      "reached 47500\n",
      "reached 48000\n",
      "reached 48500\n",
      "reached 49000\n",
      "reached 49500\n",
      "reached 50000\n",
      "reached 50500\n",
      "time taken to label 42739 tweets (s): 2119.978073120117\n"
     ]
    }
   ],
   "source": [
    "mappings = {\n",
    "    'NEG': 'Negative',\n",
    "    'POS': 'Positive',\n",
    "    'NEU': 'Neutral'\n",
    "}\n",
    "\n",
    "label = []\n",
    "start_time = time.time()\n",
    "for i in range(8000,50739):\n",
    "    if i%500 == 0:\n",
    "        print('reached',i)\n",
    "    try:\n",
    "        labelraw = classifier(df['full_text'][i])[0]['label']\n",
    "        label.append(mappings[labelraw])\n",
    "    except:\n",
    "        label.append('Neutral')\n",
    "print(\"time taken to label 42739 tweets (s):\", time.time() - start_time)"
   ]
  },
  {
   "cell_type": "code",
   "execution_count": 10,
   "id": "fb499a50",
   "metadata": {},
   "outputs": [
    {
     "data": {
      "text/plain": [
       "Sentiment Analysis (Label)\n",
       "Neutral     26963\n",
       "Positive     9924\n",
       "Negative     5852\n",
       "Name: count, dtype: int64"
      ]
     },
     "execution_count": 10,
     "metadata": {},
     "output_type": "execute_result"
    }
   ],
   "source": [
    "df[\"Sentiment Analysis (Label)\"] = label\n",
    "df[\"Sentiment Analysis (Label)\"].value_counts()"
   ]
  },
  {
   "cell_type": "code",
   "execution_count": 12,
   "id": "82b89728",
   "metadata": {},
   "outputs": [
    {
     "name": "stdout",
     "output_type": "stream",
     "text": [
      "fulldf shape: (50739, 13)\n"
     ]
    },
    {
     "data": {
      "text/plain": [
       "Sentiment Analysis (Label)\n",
       "Neutral     31304\n",
       "Positive    11957\n",
       "Negative     7478\n",
       "Name: count, dtype: int64"
      ]
     },
     "execution_count": 12,
     "metadata": {},
     "output_type": "execute_result"
    }
   ],
   "source": [
    "df2 = pd.read_csv(\"tweet_corpus2.csv\")\n",
    "fulldf = pd.concat([df2.iloc[0:8000], df])\n",
    "print(\"fulldf shape:\",fulldf.shape)\n",
    "fulldf[\"Sentiment Analysis (Label)\"].value_counts()"
   ]
  },
  {
   "cell_type": "code",
   "execution_count": 13,
   "id": "e5cbc921",
   "metadata": {},
   "outputs": [],
   "source": [
    "fulldf.to_csv('tweet_corpus3.csv', index=False)"
   ]
  }
 ],
 "metadata": {
  "kernelspec": {
   "display_name": "Python 3 (ipykernel)",
   "language": "python",
   "name": "python3"
  },
  "language_info": {
   "codemirror_mode": {
    "name": "ipython",
    "version": 3
   },
   "file_extension": ".py",
   "mimetype": "text/x-python",
   "name": "python",
   "nbconvert_exporter": "python",
   "pygments_lexer": "ipython3",
   "version": "3.11.5"
  }
 },
 "nbformat": 4,
 "nbformat_minor": 5
}
